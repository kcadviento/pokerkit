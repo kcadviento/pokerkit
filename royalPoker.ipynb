{
 "cells": [
  {
   "cell_type": "markdown",
   "metadata": {},
   "source": [
    "## Attempt to evaluate Royal Poker Hands"
   ]
  },
  {
   "cell_type": "code",
   "execution_count": 1,
   "metadata": {},
   "outputs": [],
   "source": [
    "from pokerkit import *\n",
    "from concurrent.futures import ProcessPoolExecutor\n",
    "import time"
   ]
  },
  {
   "cell_type": "markdown",
   "metadata": {},
   "source": [
    "## Functions\n",
    "\n",
    "### Calculate a Hand"
   ]
  },
  {
   "cell_type": "code",
   "execution_count": 2,
   "metadata": {},
   "outputs": [],
   "source": [
    "def calculate_hand(hand, samples=1000):\n",
    "    start = time.time()\n",
    "    with ProcessPoolExecutor() as executor:\n",
    "        result = calculate_hand_strength(\n",
    "            2,\n",
    "            parse_range(hand),\n",
    "            Card.parse(\"\"),\n",
    "            3,\n",
    "            5,\n",
    "            Deck.ROYAL_POKER,\n",
    "            (StandardHighHand,),\n",
    "            sample_count=samples,\n",
    "            executor=executor,\n",
    "    )\n",
    "    stop = time.time()\n",
    "    print(f\"Hand: {hand}, Result: {result*100:.2f}%, Time: {stop - start:.2f}s\")\n",
    "    return"
   ]
  },
  {
   "cell_type": "markdown",
   "metadata": {},
   "source": [
    "### Generate all relevant Hands"
   ]
  },
  {
   "cell_type": "code",
   "execution_count": 3,
   "metadata": {},
   "outputs": [],
   "source": [
    "def generate_hands(cards, single_suit):\n",
    "    suited_hands = []\n",
    "    off_suited_hands = set()\n",
    "\n",
    "    # Generate all suited hands for a single suit\n",
    "    for i, card1 in enumerate(cards):\n",
    "        start_card2_index = i  # Start from the current card or later to avoid duplicate pairs\n",
    "        for j, card2 in enumerate(cards[start_card2_index:], start=start_card2_index):\n",
    "            if card1 == card2:  # Skip same cards in suited hands\n",
    "                continue\n",
    "            hand = f\"{card1}{single_suit}{card2}{single_suit}\"\n",
    "            suited_hands.append(hand)\n",
    "\n",
    "    # Generate all off-suited hands (unique pairs of different cards)\n",
    "    for i, card1 in enumerate(cards):\n",
    "        for j, card2 in enumerate(cards[i+1:], start=i+1):  # Ensure card2 is always after card1\n",
    "            hand = f\"{card1}{single_suit}{card2}c\"  # Represent the pair without suits\n",
    "            off_suited_hands.add(hand)\n",
    "\n",
    "    # Generate all pairs\n",
    "    pairs = [f\"{card}{single_suit}{card}c\" for card in cards]\n",
    "\n",
    "    return suited_hands, off_suited_hands, pairs"
   ]
  },
  {
   "cell_type": "markdown",
   "metadata": {},
   "source": [
    "## Run the Calculations"
   ]
  },
  {
   "cell_type": "code",
   "execution_count": 6,
   "metadata": {},
   "outputs": [
    {
     "name": "stdout",
     "output_type": "stream",
     "text": [
      "Suited Hands:\n",
      "Hand: AsKs, Result: 60.75%, Time: 1.64s\n",
      "Hand: AsQs, Result: 56.93%, Time: 1.53s\n",
      "Hand: AsJs, Result: 53.62%, Time: 1.78s\n",
      "Hand: AsTs, Result: 49.69%, Time: 1.75s\n",
      "Hand: KsQs, Result: 52.95%, Time: 1.79s\n",
      "Hand: KsJs, Result: 50.68%, Time: 1.79s\n",
      "Hand: KsTs, Result: 47.32%, Time: 1.85s\n",
      "Hand: QsJs, Result: 46.18%, Time: 1.82s\n",
      "Hand: QsTs, Result: 44.18%, Time: 1.84s\n",
      "Hand: JsTs, Result: 40.79%, Time: 1.65s\n",
      "\n",
      "Off-Suited Hands:\n",
      "Hand: AsKc, Result: 59.31%, Time: 1.78s\n",
      "Hand: QsJc, Result: 46.41%, Time: 1.85s\n",
      "Hand: AsTc, Result: 49.55%, Time: 2.01s\n",
      "Hand: QsTc, Result: 42.40%, Time: 2.10s\n",
      "Hand: JsTc, Result: 39.72%, Time: 2.07s\n",
      "Hand: AsJc, Result: 52.75%, Time: 2.08s\n",
      "Hand: KsQc, Result: 51.17%, Time: 2.02s\n",
      "Hand: AsQc, Result: 56.95%, Time: 2.10s\n",
      "Hand: KsTc, Result: 46.86%, Time: 2.04s\n",
      "Hand: KsJc, Result: 47.82%, Time: 2.06s\n",
      "\n",
      "Pairs:\n",
      "Hand: AsAc, Result: 70.30%, Time: 2.07s\n",
      "Hand: KsKc, Result: 60.90%, Time: 2.07s\n",
      "Hand: QsQc, Result: 52.75%, Time: 2.01s\n",
      "Hand: JsJc, Result: 44.43%, Time: 2.01s\n",
      "Hand: TsTc, Result: 38.21%, Time: 2.06s\n"
     ]
    }
   ],
   "source": [
    "cards = [\"A\", \"K\", \"Q\", \"J\", \"T\"]\n",
    "single_suit = \"s\"\n",
    "samples=5000\n",
    "\n",
    "suited, off_suited, pairs = generate_hands(cards, single_suit)\n",
    "\n",
    "print(\"Suited Hands:\")\n",
    "for hand in suited:\n",
    "    calculate_hand(hand, samples)\n",
    "\n",
    "print(\"\\nOff-Suited Hands:\")\n",
    "for hand in off_suited:\n",
    "    calculate_hand(hand, samples)\n",
    "\n",
    "print(\"\\nPairs:\")\n",
    "for hand in pairs:\n",
    "    calculate_hand(hand, samples)"
   ]
  },
  {
   "cell_type": "code",
   "execution_count": null,
   "metadata": {},
   "outputs": [],
   "source": []
  }
 ],
 "metadata": {
  "kernelspec": {
   "display_name": "pokerkit",
   "language": "python",
   "name": "python3"
  },
  "language_info": {
   "codemirror_mode": {
    "name": "ipython",
    "version": 3
   },
   "file_extension": ".py",
   "mimetype": "text/x-python",
   "name": "python",
   "nbconvert_exporter": "python",
   "pygments_lexer": "ipython3",
   "version": "3.11.11"
  }
 },
 "nbformat": 4,
 "nbformat_minor": 2
}
